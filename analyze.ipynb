{
  "nbformat": 4,
  "nbformat_minor": 0,
  "metadata": {
    "colab": {
      "name": "analyze.ipynb",
      "provenance": [],
      "collapsed_sections": [],
      "authorship_tag": "ABX9TyPAO9ltc9t+43M2qNwsrrRF",
      "include_colab_link": true
    },
    "kernelspec": {
      "name": "python3",
      "display_name": "Python 3"
    },
    "language_info": {
      "name": "python"
    }
  },
  "cells": [
    {
      "cell_type": "markdown",
      "metadata": {
        "id": "view-in-github",
        "colab_type": "text"
      },
      "source": [
        "<a href=\"https://colab.research.google.com/github/WhiteFox-Lugh/e-ty-rating-simulation/blob/main/analyze.ipynb\" target=\"_parent\"><img src=\"https://colab.research.google.com/assets/colab-badge.svg\" alt=\"Open In Colab\"/></a>"
      ]
    },
    {
      "cell_type": "code",
      "metadata": {
        "colab": {
          "base_uri": "https://localhost:8080/"
        },
        "id": "Sb9unZedsaNb",
        "outputId": "e424bac4-a788-4d74-be52-882c966c55af"
      },
      "source": [
        "# drive に入れたスコアの分布を取り出す\n",
        "from google.colab import drive\n",
        "drive.mount('/content/drive/')"
      ],
      "execution_count": null,
      "outputs": [
        {
          "output_type": "stream",
          "text": [
            "Drive already mounted at /content/drive/; to attempt to forcibly remount, call drive.mount(\"/content/drive/\", force_remount=True).\n"
          ],
          "name": "stdout"
        }
      ]
    },
    {
      "cell_type": "code",
      "metadata": {
        "id": "VnXZ3mInpJzZ"
      },
      "source": [
        "import scipy.stats\n",
        "import pandas as pd\n",
        "import matplotlib.pyplot as plt\n",
        "from matplotlib.pyplot import show\n",
        "import csv\n",
        "import numpy as np\n",
        "import seaborn as sns\n",
        "from scipy.stats import norm"
      ],
      "execution_count": null,
      "outputs": []
    },
    {
      "cell_type": "code",
      "metadata": {
        "id": "RPZbnwrzpw09"
      },
      "source": [
        "dataset=pd.read_csv('/content/drive/MyDrive/e-typing/e-typing_r_ranking.csv')"
      ],
      "execution_count": null,
      "outputs": []
    },
    {
      "cell_type": "code",
      "metadata": {
        "id": "lRFtOofQreZ8"
      },
      "source": [
        "sample = dataset['点数'].values"
      ],
      "execution_count": null,
      "outputs": []
    },
    {
      "cell_type": "code",
      "metadata": {
        "id": "R_ZLJTFm1uJr"
      },
      "source": [
        "# 定数\n",
        "# 打数 (元気ワードは 350～400 が望ましい？）\n",
        "k = 375.0\n",
        "# 精度（0.95 程度）\n",
        "a = 0.95\n",
        "# ワード数 15 固定\n",
        "w = 15.0\n",
        "# レイテンシ平均\n",
        "l = 0.5 / 60.0"
      ],
      "execution_count": null,
      "outputs": []
    },
    {
      "cell_type": "code",
      "metadata": {
        "colab": {
          "base_uri": "https://localhost:8080/"
        },
        "id": "GQyasmgm2Diu",
        "outputId": "4323391c-0a98-4997-f7b3-d045905abc68"
      },
      "source": [
        "estimated_kpm = sample * k / (a * a * a * k - sample * w * l)\n",
        "estimated_kpm"
      ],
      "execution_count": null,
      "outputs": [
        {
          "output_type": "execute_result",
          "data": {
            "text/plain": [
              "array([1524.66788715, 1473.92815759, 1395.91948017, ...,    4.67412579,\n",
              "          3.50395655,    3.50395655])"
            ]
          },
          "metadata": {
            "tags": []
          },
          "execution_count": 20
        }
      ]
    },
    {
      "cell_type": "code",
      "metadata": {
        "colab": {
          "base_uri": "https://localhost:8080/",
          "height": 386
        },
        "id": "SVGmSofgvcJq",
        "outputId": "dbc74c06-a5dc-4c55-e402-f98e600f6151"
      },
      "source": [
        "sns.displot(sample, bins=250)"
      ],
      "execution_count": null,
      "outputs": [
        {
          "output_type": "execute_result",
          "data": {
            "text/plain": [
              "<seaborn.axisgrid.FacetGrid at 0x7f1764492250>"
            ]
          },
          "metadata": {
            "tags": []
          },
          "execution_count": 21
        },
        {
          "output_type": "display_data",
          "data": {
            "image/png": "[encoded data removed]",
            "text/plain": [
              "<Figure size 360x360 with 1 Axes>"
            ]
          },
          "metadata": {
            "tags": [],
            "needs_background": "light"
          }
        }
      ]
    },
    {
      "cell_type": "code",
      "metadata": {
        "colab": {
          "base_uri": "https://localhost:8080/",
          "height": 386
        },
        "id": "L_8VEH3b2ZOv",
        "outputId": "8af2a5a5-f004-416f-b2dc-9c9ef9875fdc"
      },
      "source": [
        "sns.displot(estimated_kpm, bins=250)"
      ],
      "execution_count": null,
      "outputs": [
        {
          "output_type": "execute_result",
          "data": {
            "text/plain": [
              "<seaborn.axisgrid.FacetGrid at 0x7f1761281c90>"
            ]
          },
          "metadata": {
            "tags": []
          },
          "execution_count": 27
        },
        {
          "output_type": "display_data",
          "data": {
            "image/png": "[encoded data removed]",
            "text/plain": [
              "<Figure size 360x360 with 1 Axes>"
            ]
          },
          "metadata": {
            "tags": [],
            "needs_background": "light"
          }
        }
      ]
    },
    {
      "cell_type": "code",
      "metadata": {
        "id": "vR0031udqDGl",
        "colab": {
          "base_uri": "https://localhost:8080/",
          "height": 320
        },
        "outputId": "5aef7107-ec48-4409-d6c9-1902192546d1"
      },
      "source": [
        "sns.distplot(\n",
        "    sample, bins=250, color='#333388', label='data',\n",
        "    hist=True,\n",
        "    kde=False,\n",
        "    rug=False,\n",
        "    fit=norm\n",
        ")\n",
        "plt.legend() # 凡例を表示\n",
        "plt.show()   # ヒストグラムを表示"
      ],
      "execution_count": null,
      "outputs": [
        {
          "output_type": "stream",
          "text": [
            "/usr/local/lib/python3.7/dist-packages/seaborn/distributions.py:2557: FutureWarning: `distplot` is a deprecated function and will be removed in a future version. Please adapt your code to use either `displot` (a figure-level function with similar flexibility) or `histplot` (an axes-level function for histograms).\n",
            "  warnings.warn(msg, FutureWarning)\n"
          ],
          "name": "stderr"
        },
        {
          "output_type": "display_data",
          "data": {
            "image/png": "[encoded data removed]",
            "text/plain": [
              "<Figure size 432x288 with 1 Axes>"
            ]
          },
          "metadata": {
            "tags": [],
            "needs_background": "light"
          }
        }
      ]
    },
    {
      "cell_type": "code",
      "metadata": {
        "id": "2l5R-TpOshrE"
      },
      "source": [
        "param = norm.fit(sample)"
      ],
      "execution_count": null,
      "outputs": []
    },
    {
      "cell_type": "code",
      "metadata": {
        "colab": {
          "base_uri": "https://localhost:8080/"
        },
        "id": "xdD-Mz6tsprX",
        "outputId": "0eea0809-a2e2-480f-83d7-9a1dd808f8ed"
      },
      "source": [
        "param"
      ],
      "execution_count": null,
      "outputs": [
        {
          "output_type": "execute_result",
          "data": {
            "text/plain": [
              "(259.21320991528086, 103.11067502144004)"
            ]
          },
          "metadata": {
            "tags": []
          },
          "execution_count": 29
        }
      ]
    },
    {
      "cell_type": "code",
      "metadata": {
        "colab": {
          "base_uri": "https://localhost:8080/"
        },
        "id": "xKnFWju9AXD8",
        "outputId": "d3040cda-6f25-4266-b27d-a0e8a6e895ac"
      },
      "source": [
        "[(param[0] + i * param[1]) for i in range(-3, 7, 1)]"
      ],
      "execution_count": null,
      "outputs": [
        {
          "output_type": "execute_result",
          "data": {
            "text/plain": [
              "[-50.11881514903928,\n",
              " 52.99185987240077,\n",
              " 156.1025348938408,\n",
              " 259.21320991528086,\n",
              " 362.3238849367209,\n",
              " 465.43455995816095,\n",
              " 568.545234979601,\n",
              " 671.6559100010411,\n",
              " 774.7665850224812,\n",
              " 877.8772600439211]"
            ]
          },
          "metadata": {
            "tags": []
          },
          "execution_count": 37
        }
      ]
    }
  ]
}