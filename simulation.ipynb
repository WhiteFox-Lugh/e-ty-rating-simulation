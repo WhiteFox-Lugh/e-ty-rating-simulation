{
  "nbformat": 4,
  "nbformat_minor": 0,
  "metadata": {
    "colab": {
      "name": "simulation.ipynb",
      "provenance": [],
      "collapsed_sections": [],
      "authorship_tag": "ABX9TyPO+lXacEUz+80iRCCT1XxI",
      "include_colab_link": true
    },
    "kernelspec": {
      "display_name": "Python 3",
      "name": "python3"
    },
    "language_info": {
      "name": "python"
    }
  },
  "cells": [
    {
      "cell_type": "markdown",
      "metadata": {
        "id": "view-in-github",
        "colab_type": "text"
      },
      "source": [
        "<a href=\"https://colab.research.google.com/github/WhiteFox-Lugh/e-ty-rating-simulation/blob/main/simulation.ipynb\" target=\"_parent\"><img src=\"https://colab.research.google.com/assets/colab-badge.svg\" alt=\"Open In Colab\"/></a>"
      ]
    },
    {
      "cell_type": "code",
      "metadata": {
        "id": "bKCWfVQXE3WS"
      },
      "source": [
        "import scipy.stats\n",
        "import random\n",
        "import pandas as pd\n",
        "import matplotlib.pyplot as plt\n",
        "import csv\n",
        "import numpy as np\n",
        "import seaborn as sns\n",
        "import copy\n",
        "import math\n",
        "from bisect import bisect_left, bisect_right\n",
        "from matplotlib.pyplot import show\n",
        "from scipy.stats import norm"
      ],
      "execution_count": null,
      "outputs": []
    },
    {
      "cell_type": "code",
      "metadata": {
        "id": "Pco6hBxDE7Ll"
      },
      "source": [
        "# 定数\n",
        "# 平均的な人のレーティング\n",
        "average_user_rating = 1200\n",
        "# Elo Rating の K 因子\n",
        "k = 30\n",
        "# 勝率の比が 1:10 になるレーティング差\n",
        "q = 400.0\n",
        "# 勝率の比が 1:10 になる score の差\n",
        "p = 100.0\n",
        "# 対戦回数\n",
        "match_num = 50\n",
        "# レーティングの近い前後何人とマッチするか\n",
        "match_user_range = 250\n",
        "# 事前に計算したスコア分布\n",
        "# 正規分布を仮定し、平均と標準偏差を算出\n",
        "score_mu = 259.21321\n",
        "score_scale = 103.110675\n",
        "# シード値の固定\n",
        "random.seed(743)"
      ],
      "execution_count": null,
      "outputs": []
    },
    {
      "cell_type": "code",
      "metadata": {
        "id": "8I9ZB1GjMqE0"
      },
      "source": [
        "# 分布に従いユーザを生成する\n",
        "# ただし、3シグマ範囲を超えるユーザはほぼ生成されないので、\n",
        "# 手動で生成する分も含む\n",
        "user_score = np.array([i for i in range(1, 850, 5)])\n",
        "user_score = np.append(user_score, norm.rvs(loc=score_mu,scale=score_scale,size=5500))\n",
        "# スコアが負の人を排除\n",
        "user_score = user_score[user_score > 0]\n",
        "# あとで見やすくするためソート\n",
        "user_score = np.sort(user_score)\n",
        "# レーティング初期化\n",
        "user_rating = np.zeros(len(user_score))\n",
        "user_num = len(user_score)"
      ],
      "execution_count": null,
      "outputs": []
    },
    {
      "cell_type": "code",
      "metadata": {
        "colab": {
          "base_uri": "https://localhost:8080/",
          "height": 386
        },
        "id": "FeqaNqu5TV1F",
        "outputId": "b4ac1b08-91fa-4da3-98ba-9a66bc3e4146"
      },
      "source": [
        "sns.displot(user_score, bins=250)"
      ],
      "execution_count": null,
      "outputs": [
        {
          "output_type": "execute_result",
          "data": {
            "text/plain": [
              "<seaborn.axisgrid.FacetGrid at 0x7f39846641d0>"
            ]
          },
          "metadata": {
            "tags": []
          },
          "execution_count": 4
        },
        {
          "output_type": "display_data",
          "data": {
            "image/png": "[encoded data removed]",
            "text/plain": [
              "<Figure size 360x360 with 1 Axes>"
            ]
          },
          "metadata": {
            "tags": [],
            "needs_background": "light"
          }
        }
      ]
    },
    {
      "cell_type": "code",
      "metadata": {
        "id": "2fWDCBx6FcUD"
      },
      "source": [
        "# レーティング差から期待される成績を算出する\n",
        "def elo_logistic_function(rating_i, rating_j):\n",
        "  return 1.0 / (1.0 + np.power(10, -(rating_i - rating_j) / q))\n",
        "\n",
        "# スコア差から勝率を算出し、乱数で勝敗を決定\n",
        "def score_function(score_i, score_j):\n",
        "  prob = 1.0 / (1.0 + np.power(10, -(score_i - score_j) / p))\n",
        "  r = random.random()\n",
        "  return 1 if r <= prob else 0\n",
        "\n",
        "# レーティングの更新\n",
        "def update_rating(user_i, user_j):\n",
        "  # 対戦前のレーティングの抽出\n",
        "  old_rating_i = user_rating[user_i]\n",
        "  old_rating_j = user_rating[user_j]\n",
        "  # エタイでのスコアを抽出\n",
        "  score_i = user_score[user_i]\n",
        "  score_j = user_score[user_j]\n",
        "  # 勝敗を決定\n",
        "  s_ij = score_function(score_i, score_j)\n",
        "  s_ji = 1 - s_ij\n",
        "  # 現在のレーティングにおいてどれくらいの勝率になるかを計算\n",
        "  mu_ij = elo_logistic_function(old_rating_i, old_rating_j)\n",
        "  mu_ji = elo_logistic_function(old_rating_j, old_rating_i)\n",
        "  # レーティングを更新\n",
        "  new_rating_i = old_rating_i + k * (s_ij - mu_ij)\n",
        "  new_rating_j = old_rating_j + k * (s_ji - mu_ji)\n",
        "  user_rating[user_i] = new_rating_i\n",
        "  user_rating[user_j] = new_rating_j\n",
        "  return"
      ],
      "execution_count": null,
      "outputs": []
    },
    {
      "cell_type": "code",
      "metadata": {
        "id": "yDtwiqAsHSHI"
      },
      "source": [
        "# シミュレーションする関数\n",
        "def simulate():\n",
        "  # シミュレーションの繰り返し\n",
        "  for l in range(match_num):\n",
        "    # プレイヤー i と j を戦わせる\n",
        "    # i == j のときは自分同士での対戦になるのでスキップ\n",
        "    for i in range(user_num):\n",
        "      for j in range(max(0, i - match_user_range), min(user_num, i + match_user_range + 1)):\n",
        "        if i == j:\n",
        "          continue\n",
        "        update_rating(i, j)\n",
        "  return"
      ],
      "execution_count": null,
      "outputs": []
    },
    {
      "cell_type": "code",
      "metadata": {
        "id": "rGrXjkP-Hgck"
      },
      "source": [
        "# ここを実行すると実際にシミュレーションが動きます\n",
        "simulate()"
      ],
      "execution_count": null,
      "outputs": []
    },
    {
      "cell_type": "code",
      "metadata": {
        "colab": {
          "base_uri": "https://localhost:8080/",
          "height": 386
        },
        "id": "HvNnR4yWIG4q",
        "outputId": "4a638c40-dd26-4e71-8c69-3ae9d150f220"
      },
      "source": [
        "# 最終的なレーティングの値を算出し、分布をプロットします\n",
        "rating_list = user_rating + average_user_rating\n",
        "sns.displot(rating_list)"
      ],
      "execution_count": null,
      "outputs": [
        {
          "output_type": "execute_result",
          "data": {
            "text/plain": [
              "<seaborn.axisgrid.FacetGrid at 0x7f396bed3d50>"
            ]
          },
          "metadata": {
            "tags": []
          },
          "execution_count": 46
        },
        {
          "output_type": "display_data",
          "data": {
            "image/png": "[encoded data removed]",
            "text/plain": [
              "<Figure size 360x360 with 1 Axes>"
            ]
          },
          "metadata": {
            "tags": [],
            "needs_background": "light"
          }
        }
      ]
    },
    {
      "cell_type": "code",
      "metadata": {
        "colab": {
          "base_uri": "https://localhost:8080/"
        },
        "id": "cCY9yedNVj1e",
        "outputId": "6a1bbb90-9a07-4db3-8425-2a2ddbb4171b"
      },
      "source": [
        "# 以下、レーティングとスコアの対応関係を出すだけのプログラム\n",
        "# レーティング最小値と最大値を算出し整数に\n",
        "min_rating = int(np.min(rating_list)) - 1\n",
        "max_rating = int(np.max(rating_list)) + 1\n",
        "min_rating, max_rating"
      ],
      "execution_count": null,
      "outputs": [
        {
          "output_type": "execute_result",
          "data": {
            "text/plain": [
              "(142, 3491)"
            ]
          },
          "metadata": {
            "tags": []
          },
          "execution_count": 47
        }
      ]
    },
    {
      "cell_type": "code",
      "metadata": {
        "id": "uzv728MUWz4C"
      },
      "source": [
        "# 各レーティングについてスコアを出す\n",
        "rating_score_dict = {}\n",
        "# (rating, score) のタプルのリストをつくる\n",
        "tuple_list = list(map(lambda a, b: (a, b), rating_list, user_score))\n",
        "tuple_list.sort(key=lambda x:x[0])\n",
        "rating_list = list(map(lambda x: x[0], tuple_list))\n",
        "score_list = list(map(lambda x: x[1], tuple_list))"
      ],
      "execution_count": null,
      "outputs": []
    },
    {
      "cell_type": "code",
      "metadata": {
        "id": "BvDlsQK7I_Aj"
      },
      "source": [
        "for rating in range(min_rating, max_rating, 1):\n",
        "  l = bisect_left(rating_list, rating)\n",
        "  if l < user_num:\n",
        "    score = user_score[l]\n",
        "    rating_score_dict[rating] = int(math.ceil(score))"
      ],
      "execution_count": null,
      "outputs": []
    },
    {
      "cell_type": "code",
      "metadata": {
        "colab": {
          "base_uri": "https://localhost:8080/"
        },
        "id": "xcLJ4A7CcV8e",
        "outputId": "ba2eb19f-94ed-4d2c-d171-212481d33c52"
      },
      "source": [
        "# レーティング境界ラインを出してみる\n",
        "# 境界は CF を参照\n",
        "rating_border_list = [1000, 1200, 1400, 1600, 1800, 2000, 2200, 2400, 2700, 3000]\n",
        "score_border_list = list(map(lambda x: rating_score_dict[x], rating_border_list))\n",
        "score_border_list"
      ],
      "execution_count": null,
      "outputs": [
        {
          "output_type": "execute_result",
          "data": {
            "text/plain": [
              "[203, 270, 330, 382, 428, 476, 526, 586, 656, 726]"
            ]
          },
          "metadata": {
            "tags": []
          },
          "execution_count": 50
        }
      ]
    },
    {
      "cell_type": "code",
      "metadata": {
        "colab": {
          "base_uri": "https://localhost:8080/"
        },
        "id": "8bz57bc5DLS1",
        "outputId": "5d3b7a5e-a121-4793-9071-5c60e8ba4d6a"
      },
      "source": [
        "# パーセンタイルとスコア\n",
        "percentile_list = [(np.percentile(rating_list, i / 10.0), np.percentile(score_list, i / 10.0)) for i in range(0, 1000)]\n",
        "output_percentile = [100, 200, 300, 400, 500, 600, 700, 750, 800, 850, 900, 950, 970, 975, 980, 985, 990, 991, 992, 993, 994, 995, 996, 997, 998, 999]\n",
        "score_percentile_border_list = list(map(lambda x: (percentile_list[int(x)][0], percentile_list[(int(x))][1]), output_percentile))\n",
        "score_percentile_border_list"
      ],
      "execution_count": null,
      "outputs": [
        {
          "output_type": "execute_result",
          "data": {
            "text/plain": [
              "[(741.7503225484841, 129.08134365715665),\n",
              " (902.8876960222094, 173.5612877699664),\n",
              " (1011.3829459265571, 205.5305769894951),\n",
              " (1100.0730938407355, 233.88153793656653),\n",
              " (1171.7811994136018, 260.1240155458112),\n",
              " (1256.5274160315034, 286.86716149830994),\n",
              " (1354.000184004393, 314.0781114311335),\n",
              " (1404.4943921095423, 331.1097693754725),\n",
              " (1476.297990590468, 348.0908505989484),\n",
              " (1554.5505588550398, 368.84106007056744),\n",
              " (1659.6120133166771, 394.70954484174746),\n",
              " (1835.9216024178213, 434.9084862525517),\n",
              " (1964.9190896540663, 467.09075379755143),\n",
              " (2016.6317725169552, 480.1390301044112),\n",
              " (2082.962591251314, 501.0240942451345),\n",
              " (2206.8708868187496, 525.7171684341522),\n",
              " (2392.1646158818994, 585.0704077896878),\n",
              " (2500.4133012686384, 601.8399999999983),\n",
              " (2598.4881015959804, 625.9457211308473),\n",
              " (2692.9462124768615, 648.3199999999997),\n",
              " (2827.112713647791, 676.560000000005),\n",
              " (2938.483623065957, 704.8000000000011),\n",
              " (3019.7945556315053, 733.0400000000018),\n",
              " (3180.7342952261233, 761.2799999999979),\n",
              " (3270.179312385868, 789.5199999999986),\n",
              " (3367.2543358692, 817.7600000000039)]"
            ]
          },
          "metadata": {
            "tags": []
          },
          "execution_count": 53
        }
      ]
    }
  ]
}